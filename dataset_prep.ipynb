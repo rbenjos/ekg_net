{
 "cells": [
  {
   "cell_type": "code",
   "execution_count": 173,
   "metadata": {
    "collapsed": true,
    "pycharm": {
     "name": "#%%\n"
    }
   },
   "outputs": [],
   "source": [
    "import numpy as np\n",
    "import torch\n",
    "from torch.utils.data import Dataset, DataLoader\n",
    "\n"
   ]
  },
  {
   "cell_type": "code",
   "execution_count": 223,
   "outputs": [],
   "source": [
    "HEALTHY = 0\n",
    "SEVERE = 1\n",
    "\n",
    "\n",
    "class HomogenicDataset(Dataset):\n",
    "    def __init__(self, tensor, state):\n",
    "        self.x = tensor\n",
    "        values = torch.Tensor([state] * len(tensor))\n",
    "        self.y = torch.stack([1- values,values],dim=1)\n",
    "\n",
    "    def __len__(self):\n",
    "        return len(self.y)\n",
    "\n",
    "    def __getitem__(self, idx):\n",
    "        return self.x[idx], self.y[idx]\n",
    "\n",
    "\n",
    "class CombinedDataset(Dataset):\n",
    "    def __init__(self, severe_ds, healthy_ds):\n",
    "        self.x = torch.concat([severe_ds[0],healthy_ds[0]])\n",
    "        self.y = torch.concat([severe_ds[1],healthy_ds[1]])\n",
    "\n",
    "    def __len__(self):\n",
    "        return len(self.y)\n",
    "\n",
    "    def __getitem__(self, idx):\n",
    "        return self.x[idx], self.y[idx]"
   ],
   "metadata": {
    "collapsed": false,
    "pycharm": {
     "name": "#%%\n"
    }
   }
  },
  {
   "cell_type": "code",
   "execution_count": 164,
   "outputs": [],
   "source": [
    "def normalize(tensor):\n",
    "    return torch.nn.BatchNorm1d((12))(tensor)\n",
    "\n",
    "\n",
    "def prep_severe(severe_tensor):\n",
    "    severe_tensor = severe_tensor.permute((0,2,1))\n",
    "    severe_tensor = severe_tensor[:,:,::2].clone()\n",
    "    return severe_tensor"
   ],
   "metadata": {
    "collapsed": false,
    "pycharm": {
     "name": "#%%\n"
    }
   }
  },
  {
   "cell_type": "code",
   "execution_count": 224,
   "outputs": [],
   "source": [
    "SEVERE_PATH = \"C:\\\\Users\\\\rbenjos\\\\Desktop\\\\ekg_proj\\\\severe_ds.pt\"\n",
    "HEALTHY_PATH = \"C:\\\\Users\\\\rbenjos\\\\Desktop\\\\ekg_proj\\\\healthy_ds.pt\"\n",
    "\n",
    "severe_tensor = torch.load(SEVERE_PATH)\n",
    "severe_tensor = normalize(prep_severe(severe_tensor))\n",
    "severe_ds = HomogenicDataset(severe_tensor, SEVERE)\n",
    "\n",
    "healthy_tensor = torch.load(HEALTHY_PATH)\n",
    "healthy_tensor = normalize(healthy_tensor)\n",
    "healthy_ds = HomogenicDataset(healthy_tensor, HEALTHY)"
   ],
   "metadata": {
    "collapsed": false,
    "pycharm": {
     "name": "#%%\n"
    }
   }
  },
  {
   "cell_type": "code",
   "execution_count": 178,
   "outputs": [
    {
     "data": {
      "text/plain": "(torch.Size([41, 12, 1250]), torch.Size([3000, 12, 1250]))"
     },
     "execution_count": 178,
     "metadata": {},
     "output_type": "execute_result"
    }
   ],
   "source": [
    "severe_ds.x.shape, healthy_ds.x.shape"
   ],
   "metadata": {
    "collapsed": false,
    "pycharm": {
     "name": "#%%\n"
    }
   }
  },
  {
   "cell_type": "code",
   "execution_count": 152,
   "outputs": [],
   "source": [
    "severe_loader = DataLoader(severe_ds,batch_size=4,shuffle=True)\n",
    "healthy_loader = DataLoader(healthy_ds,batch_size=4,shuffle=True)"
   ],
   "metadata": {
    "collapsed": false,
    "pycharm": {
     "name": "#%%\n"
    }
   }
  },
  {
   "cell_type": "code",
   "execution_count": 231,
   "outputs": [],
   "source": [
    "SEVERE_TRAIN_SIZE = 30\n",
    "HEALTHY_TRAIN_SIZE = 2800\n",
    "\n",
    "training_set = CombinedDataset(healthy_ds[:HEALTHY_TRAIN_SIZE], severe_ds[:SEVERE_TRAIN_SIZE])\n",
    "test_set = CombinedDataset(healthy_ds[HEALTHY_TRAIN_SIZE:], severe_ds[SEVERE_TRAIN_SIZE:])\n"
   ],
   "metadata": {
    "collapsed": false,
    "pycharm": {
     "name": "#%%\n"
    }
   }
  },
  {
   "cell_type": "code",
   "execution_count": 232,
   "outputs": [],
   "source": [
    "TRAIN_SET_PATH =  \"C:\\\\Users\\\\rbenjos\\\\Desktop\\\\ekg_proj\\\\train_ds.pt\"\n",
    "TEST_SET_PATH =  \"C:\\\\Users\\\\rbenjos\\\\Desktop\\\\ekg_proj\\\\test_ds.pt\"\n",
    "\n",
    "torch.save(training_set,TRAIN_SET_PATH)\n",
    "torch.save(test_set,TEST_SET_PATH)"
   ],
   "metadata": {
    "collapsed": false,
    "pycharm": {
     "name": "#%%\n"
    }
   }
  }
 ],
 "metadata": {
  "kernelspec": {
   "display_name": "Python 3",
   "language": "python",
   "name": "python3"
  },
  "language_info": {
   "codemirror_mode": {
    "name": "ipython",
    "version": 2
   },
   "file_extension": ".py",
   "mimetype": "text/x-python",
   "name": "python",
   "nbconvert_exporter": "python",
   "pygments_lexer": "ipython2",
   "version": "2.7.6"
  }
 },
 "nbformat": 4,
 "nbformat_minor": 0
}